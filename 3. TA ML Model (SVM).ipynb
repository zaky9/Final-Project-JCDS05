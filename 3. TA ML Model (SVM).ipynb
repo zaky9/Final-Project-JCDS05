{
 "cells": [
  {
   "cell_type": "code",
   "execution_count": 11,
   "metadata": {
    "ExecuteTime": {
     "end_time": "2019-07-23T18:02:05.695792Z",
     "start_time": "2019-07-23T18:02:05.513743Z"
    }
   },
   "outputs": [
    {
     "name": "stdout",
     "output_type": "stream",
     "text": [
      "SVM Score:  72.38 %\n"
     ]
    },
    {
     "data": {
      "text/plain": [
       "1"
      ]
     },
     "execution_count": 11,
     "metadata": {},
     "output_type": "execute_result"
    }
   ],
   "source": [
    "import os\n",
    "import pandas as pd\n",
    "import numpy as np\n",
    "import matplotlib.pyplot as plt\n",
    "import seaborn as sns\n",
    "%matplotlib inline\n",
    "\n",
    "df = pd.read_csv(r'C:\\Users\\User\\Desktop\\tugas akhir files\\student_grade.csv', delimiter=',')\n",
    "\n",
    "X = df[['Medu','Fedu','Mjob','higher','studytime','address',\n",
    "       'failures','Dalc','absences','traveltime']]\n",
    "Y = df['PorF'] # Target Grades\n",
    "\n",
    "# ONE HOT ENCODER\n",
    "from sklearn.preprocessing import OneHotEncoder\n",
    "from sklearn.compose import ColumnTransformer\n",
    "\n",
    "coltrans = ColumnTransformer(\n",
    "    [('one_hot_encoder', OneHotEncoder(categories='auto'), [0,1,2])], # Medu,Fedu,Mjob\n",
    "    remainder='passthrough'\n",
    ")\n",
    "X = np.array(coltrans.fit_transform(X), dtype=np.float64)\n",
    "\n",
    "\n",
    "from sklearn.model_selection import train_test_split\n",
    "x_train, x_test, y_train, y_test = train_test_split(X, Y, test_size=0.1, random_state=100)\n",
    "\n",
    "\n",
    "# Support vector Machine\n",
    "from sklearn.svm import SVC\n",
    "modelSVM = SVC(gamma='auto',decision_function_shape='ovo')\n",
    "modelSVM.fit(x_train, y_train)\n",
    "SVC(C=1.0, cache_size=200, class_weight=None, coef0=0.0,\n",
    "    decision_function_shape='ovr', degree=4, gamma='auto', kernel='rbf',\n",
    "    max_iter=-1, probability=False, random_state=None, shrinking=True,\n",
    "    tol=0.001, verbose=False)\n",
    "print('SVM Score: ',round(modelSVM.score(x_test, y_test)*100,2),'%')\n",
    "pred_SVM = modelSVM.predict([[0,0,0,0,1,0,0,0,0,1,0,0,0,1,0,1,2,1,0,1,6,2]])[0]\n",
    "pred_SVM"
   ]
  },
  {
   "cell_type": "code",
   "execution_count": 3,
   "metadata": {
    "ExecuteTime": {
     "end_time": "2019-07-23T13:52:25.570302Z",
     "start_time": "2019-07-23T13:52:25.549297Z"
    }
   },
   "outputs": [
    {
     "data": {
      "text/plain": [
       "['model_ml']"
      ]
     },
     "execution_count": 3,
     "metadata": {},
     "output_type": "execute_result"
    }
   ],
   "source": [
    "# import joblib as jb\n",
    "# jb.dump(modelSVM,'model_ml')"
   ]
  }
 ],
 "metadata": {
  "hide_input": false,
  "kernelspec": {
   "display_name": "Python 3",
   "language": "python",
   "name": "python3"
  },
  "language_info": {
   "codemirror_mode": {
    "name": "ipython",
    "version": 3
   },
   "file_extension": ".py",
   "mimetype": "text/x-python",
   "name": "python",
   "nbconvert_exporter": "python",
   "pygments_lexer": "ipython3",
   "version": "3.7.3"
  },
  "toc": {
   "base_numbering": 1,
   "nav_menu": {},
   "number_sections": true,
   "sideBar": true,
   "skip_h1_title": false,
   "title_cell": "Table of Contents",
   "title_sidebar": "Contents",
   "toc_cell": false,
   "toc_position": {},
   "toc_section_display": true,
   "toc_window_display": false
  },
  "varInspector": {
   "cols": {
    "lenName": 16,
    "lenType": 16,
    "lenVar": 40
   },
   "kernels_config": {
    "python": {
     "delete_cmd_postfix": "",
     "delete_cmd_prefix": "del ",
     "library": "var_list.py",
     "varRefreshCmd": "print(var_dic_list())"
    },
    "r": {
     "delete_cmd_postfix": ") ",
     "delete_cmd_prefix": "rm(",
     "library": "var_list.r",
     "varRefreshCmd": "cat(var_dic_list()) "
    }
   },
   "position": {
    "height": "314.396px",
    "left": "1972.1px",
    "right": "20px",
    "top": "154px",
    "width": "344.813px"
   },
   "types_to_exclude": [
    "module",
    "function",
    "builtin_function_or_method",
    "instance",
    "_Feature"
   ],
   "window_display": true
  }
 },
 "nbformat": 4,
 "nbformat_minor": 2
}
