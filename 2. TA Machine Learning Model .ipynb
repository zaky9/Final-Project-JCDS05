{
 "cells": [
  {
   "cell_type": "code",
   "execution_count": 1,
   "metadata": {
    "ExecuteTime": {
     "end_time": "2019-07-23T16:09:21.485794Z",
     "start_time": "2019-07-23T16:09:17.835885Z"
    }
   },
   "outputs": [],
   "source": [
    "import os\n",
    "import pandas as pd\n",
    "import numpy as np\n",
    "import matplotlib.pyplot as plt\n",
    "import seaborn as sns\n",
    "%matplotlib inline\n",
    "\n",
    "df = pd.read_csv(r'C:\\Users\\User\\Desktop\\tugas akhir files\\student_grade.csv', delimiter=',')"
   ]
  },
  {
   "cell_type": "code",
   "execution_count": 2,
   "metadata": {
    "ExecuteTime": {
     "end_time": "2019-07-23T16:09:21.762866Z",
     "start_time": "2019-07-23T16:09:21.492797Z"
    }
   },
   "outputs": [
    {
     "data": {
      "text/plain": [
       "grades        1.000000\n",
       "Medu          0.246696\n",
       "higher        0.231410\n",
       "studytime     0.184727\n",
       "Fedu          0.180474\n",
       "address       0.138578\n",
       "internet      0.124196\n",
       "nursery       0.067382\n",
       "activities    0.059365\n",
       "famrel        0.054332\n",
       "sex           0.047819\n",
       "famsize       0.035571\n",
       "famsup       -0.008641\n",
       "Pstatus      -0.011386\n",
       "guardian     -0.033575\n",
       "freetime     -0.042734\n",
       "romantic     -0.048290\n",
       "paid         -0.050772\n",
       "Fjob         -0.067865\n",
       "age          -0.081562\n",
       "goout        -0.088878\n",
       "health       -0.094754\n",
       "reason       -0.095562\n",
       "schoolsup    -0.133149\n",
       "Mjob         -0.139910\n",
       "traveltime   -0.143952\n",
       "absences     -0.144462\n",
       "Walc         -0.158047\n",
       "Dalc         -0.183612\n",
       "failures     -0.310883\n",
       "Name: grades, dtype: float64"
      ]
     },
     "execution_count": 2,
     "metadata": {},
     "output_type": "execute_result"
    }
   ],
   "source": [
    "# Corelate all features with the target 'grades'\n",
    "df_corr= df.drop(['grades','AvgGrade','G3','G2','G1'], axis='columns')\n",
    "corr_matrix = df_corr.corr(method='spearman')\n",
    "corr_matrix['PorF'].sort_values(ascending=False)"
   ]
  },
  {
   "cell_type": "code",
   "execution_count": 3,
   "metadata": {
    "ExecuteTime": {
     "end_time": "2019-07-23T16:09:21.784875Z",
     "start_time": "2019-07-23T16:09:21.770868Z"
    }
   },
   "outputs": [],
   "source": [
    "X = df[['Medu','Fedu','Mjob','higher','studytime','address',\n",
    "       'failures','Dalc','absences','traveltime']]\n",
    "Y = df['PorF'] # Target Grades"
   ]
  },
  {
   "cell_type": "code",
   "execution_count": 4,
   "metadata": {
    "ExecuteTime": {
     "end_time": "2019-07-23T16:09:21.804877Z",
     "start_time": "2019-07-23T16:09:21.791873Z"
    }
   },
   "outputs": [
    {
     "data": {
      "text/plain": [
       "array(['Medu', 'Fedu', 'Mjob', 'higher', 'studytime', 'address',\n",
       "       'failures', 'Dalc', 'absences', 'traveltime'], dtype=object)"
      ]
     },
     "execution_count": 4,
     "metadata": {},
     "output_type": "execute_result"
    }
   ],
   "source": [
    "X.columns.values"
   ]
  },
  {
   "cell_type": "code",
   "execution_count": 5,
   "metadata": {
    "ExecuteTime": {
     "end_time": "2019-07-23T16:09:21.859894Z",
     "start_time": "2019-07-23T16:09:21.810878Z"
    }
   },
   "outputs": [
    {
     "data": {
      "text/html": [
       "<div>\n",
       "<style scoped>\n",
       "    .dataframe tbody tr th:only-of-type {\n",
       "        vertical-align: middle;\n",
       "    }\n",
       "\n",
       "    .dataframe tbody tr th {\n",
       "        vertical-align: top;\n",
       "    }\n",
       "\n",
       "    .dataframe thead th {\n",
       "        text-align: right;\n",
       "    }\n",
       "</style>\n",
       "<table border=\"1\" class=\"dataframe\">\n",
       "  <thead>\n",
       "    <tr style=\"text-align: right;\">\n",
       "      <th></th>\n",
       "      <th>Medu</th>\n",
       "      <th>Fedu</th>\n",
       "      <th>Mjob</th>\n",
       "      <th>higher</th>\n",
       "      <th>studytime</th>\n",
       "      <th>address</th>\n",
       "      <th>failures</th>\n",
       "      <th>Dalc</th>\n",
       "      <th>absences</th>\n",
       "      <th>traveltime</th>\n",
       "    </tr>\n",
       "  </thead>\n",
       "  <tbody>\n",
       "    <tr>\n",
       "      <th>0</th>\n",
       "      <td>4</td>\n",
       "      <td>4</td>\n",
       "      <td>3</td>\n",
       "      <td>1</td>\n",
       "      <td>2</td>\n",
       "      <td>1</td>\n",
       "      <td>0</td>\n",
       "      <td>1</td>\n",
       "      <td>6</td>\n",
       "      <td>2</td>\n",
       "    </tr>\n",
       "    <tr>\n",
       "      <th>1</th>\n",
       "      <td>1</td>\n",
       "      <td>1</td>\n",
       "      <td>3</td>\n",
       "      <td>1</td>\n",
       "      <td>2</td>\n",
       "      <td>1</td>\n",
       "      <td>0</td>\n",
       "      <td>1</td>\n",
       "      <td>4</td>\n",
       "      <td>1</td>\n",
       "    </tr>\n",
       "    <tr>\n",
       "      <th>2</th>\n",
       "      <td>1</td>\n",
       "      <td>1</td>\n",
       "      <td>3</td>\n",
       "      <td>1</td>\n",
       "      <td>2</td>\n",
       "      <td>1</td>\n",
       "      <td>3</td>\n",
       "      <td>2</td>\n",
       "      <td>10</td>\n",
       "      <td>1</td>\n",
       "    </tr>\n",
       "    <tr>\n",
       "      <th>3</th>\n",
       "      <td>4</td>\n",
       "      <td>2</td>\n",
       "      <td>1</td>\n",
       "      <td>1</td>\n",
       "      <td>3</td>\n",
       "      <td>1</td>\n",
       "      <td>0</td>\n",
       "      <td>1</td>\n",
       "      <td>2</td>\n",
       "      <td>1</td>\n",
       "    </tr>\n",
       "    <tr>\n",
       "      <th>4</th>\n",
       "      <td>3</td>\n",
       "      <td>3</td>\n",
       "      <td>4</td>\n",
       "      <td>1</td>\n",
       "      <td>2</td>\n",
       "      <td>1</td>\n",
       "      <td>0</td>\n",
       "      <td>1</td>\n",
       "      <td>4</td>\n",
       "      <td>1</td>\n",
       "    </tr>\n",
       "  </tbody>\n",
       "</table>\n",
       "</div>"
      ],
      "text/plain": [
       "   Medu  Fedu  Mjob  higher  studytime  address  failures  Dalc  absences  \\\n",
       "0     4     4     3       1          2        1         0     1         6   \n",
       "1     1     1     3       1          2        1         0     1         4   \n",
       "2     1     1     3       1          2        1         3     2        10   \n",
       "3     4     2     1       1          3        1         0     1         2   \n",
       "4     3     3     4       1          2        1         0     1         4   \n",
       "\n",
       "   traveltime  \n",
       "0           2  \n",
       "1           1  \n",
       "2           1  \n",
       "3           1  \n",
       "4           1  "
      ]
     },
     "execution_count": 5,
     "metadata": {},
     "output_type": "execute_result"
    }
   ],
   "source": [
    "X.head()"
   ]
  },
  {
   "cell_type": "code",
   "execution_count": 6,
   "metadata": {
    "ExecuteTime": {
     "end_time": "2019-07-23T16:09:24.954649Z",
     "start_time": "2019-07-23T16:09:21.867892Z"
    }
   },
   "outputs": [
    {
     "name": "stdout",
     "output_type": "stream",
     "text": [
      "DT Score:  68.57 %\n",
      "predicted DT:  1\n",
      "Actual target value:  1\n",
      "SVM Score:  72.38 %\n",
      "predicted SVM:  1\n",
      "Actual target value:  1\n",
      "Kn Score:  69.52 %\n",
      "predicted Kn:  1\n",
      "Actual target value:  1\n",
      "Log Score:  69.52 %\n",
      "predicted Log:  1\n",
      "Actual target value:  1\n"
     ]
    }
   ],
   "source": [
    "# ONE HOT ENCODER\n",
    "from sklearn.preprocessing import OneHotEncoder\n",
    "from sklearn.compose import ColumnTransformer\n",
    "\n",
    "coltrans = ColumnTransformer(\n",
    "    [('one_hot_encoder', OneHotEncoder(categories='auto'), [0,1,2])],\n",
    "    remainder='passthrough'\n",
    ")\n",
    "X = np.array(coltrans.fit_transform(X), dtype=np.float64)\n",
    "\n",
    "\n",
    "from sklearn.model_selection import train_test_split\n",
    "x_train, x_test, y_train, y_test = train_test_split(X, Y, test_size=0.1, random_state=100)\n",
    "\n",
    "# Decision Trees\n",
    "from sklearn import tree\n",
    "modelDT = tree.DecisionTreeClassifier(max_leaf_nodes=15, random_state=0)\n",
    "modelDT.fit(x_train, y_train)\n",
    "print('DT Score: ',round(modelDT.score(x_test, y_test)*100,2),'%')\n",
    "pred_DT = modelDT.predict(x_test)\n",
    "print('predicted DT: ', pred_DT[0])\n",
    "print('Actual target value: ', y_test.iloc[0])\n",
    "\n",
    "# Support vector Machine\n",
    "from sklearn.svm import SVC\n",
    "modelSVM = SVC(gamma='auto',decision_function_shape='ovo')\n",
    "modelSVM.fit(x_train, y_train)\n",
    "SVC(C=1.0, cache_size=200, class_weight=None, coef0=0.0,\n",
    "    decision_function_shape='ovr', degree=3, gamma='auto', kernel='rbf',\n",
    "    max_iter=-1, probability=False, random_state=None, shrinking=True,\n",
    "    tol=0.001, verbose=False)\n",
    "print('SVM Score: ',round(modelSVM.score(x_test, y_test)*100,2),'%')\n",
    "pred_SVM = modelSVM.predict(x_test)\n",
    "print('predicted SVM: ', pred_SVM[0])\n",
    "print('Actual target value: ', y_test.iloc[0])\n",
    "\n",
    "# K-nearest Neighbours\n",
    "def nNeighbors():\n",
    "    x = round(len(df) ** 0.5)\n",
    "    if x % 2 == 0:\n",
    "        return x + 1\n",
    "    else:\n",
    "        return x\n",
    "    \n",
    "from sklearn.neighbors import KNeighborsClassifier\n",
    "modelKn = KNeighborsClassifier(n_neighbors=nNeighbors())\n",
    "modelKn.fit(x_train,y_train)\n",
    "print('Kn Score: ',round(modelKn.score(x_test, y_test)*100,2),'%')\n",
    "pred_Kn = modelKn.predict(x_test)\n",
    "print('predicted Kn: ', pred_Kn[0])\n",
    "print('Actual target value: ', y_test.iloc[0])\n",
    "\n",
    "# Logistic regression (modellog)\n",
    "from sklearn.linear_model import LogisticRegression\n",
    "modellog = LogisticRegression(solver='liblinear')\n",
    "modellog.fit(x_train, y_train)\n",
    "print('Log Score: ',round(modellog.score(x_test, y_test)*100,2),'%')\n",
    "pred_log = modellog.predict(x_test)\n",
    "print('predicted Log: ', pred_log[0])\n",
    "print('Actual target value: ', y_test.iloc[0])\n",
    "\n"
   ]
  },
  {
   "cell_type": "markdown",
   "metadata": {},
   "source": [
    "\n",
    "SVM is choosen for ML "
   ]
  },
  {
   "cell_type": "code",
   "execution_count": 8,
   "metadata": {
    "ExecuteTime": {
     "end_time": "2019-07-23T16:09:25.018665Z",
     "start_time": "2019-07-23T16:09:25.008662Z"
    }
   },
   "outputs": [],
   "source": [
    "# [0.,0.,0.,0.,1.,0.,0.,0.,0.,1.,   0.,    0.,     0.,      1.,   0.,    1.,      2.,     1.,      0.,   1.,    6.,       2.]\n",
    "# M0,M1,M2,M3,M4,F0,F1,F2,F3,F4,TEACHER,HEALTH,SERVICES,AT_HOME,OTHER,HIGHER,STUDYTIME,ADDRESS,FAILURES,DALC,ABSENCE,TRAVELTIME\n"
   ]
  }
 ],
 "metadata": {
  "hide_input": false,
  "kernelspec": {
   "display_name": "Python 3",
   "language": "python",
   "name": "python3"
  },
  "language_info": {
   "codemirror_mode": {
    "name": "ipython",
    "version": 3
   },
   "file_extension": ".py",
   "mimetype": "text/x-python",
   "name": "python",
   "nbconvert_exporter": "python",
   "pygments_lexer": "ipython3",
   "version": "3.7.3"
  },
  "toc": {
   "base_numbering": 1,
   "nav_menu": {},
   "number_sections": true,
   "sideBar": true,
   "skip_h1_title": false,
   "title_cell": "Table of Contents",
   "title_sidebar": "Contents",
   "toc_cell": false,
   "toc_position": {},
   "toc_section_display": true,
   "toc_window_display": false
  },
  "varInspector": {
   "cols": {
    "lenName": 16,
    "lenType": 16,
    "lenVar": 40
   },
   "kernels_config": {
    "python": {
     "delete_cmd_postfix": "",
     "delete_cmd_prefix": "del ",
     "library": "var_list.py",
     "varRefreshCmd": "print(var_dic_list())"
    },
    "r": {
     "delete_cmd_postfix": ") ",
     "delete_cmd_prefix": "rm(",
     "library": "var_list.r",
     "varRefreshCmd": "cat(var_dic_list()) "
    }
   },
   "position": {
    "height": "314.396px",
    "left": "1972.1px",
    "right": "20px",
    "top": "154px",
    "width": "344.813px"
   },
   "types_to_exclude": [
    "module",
    "function",
    "builtin_function_or_method",
    "instance",
    "_Feature"
   ],
   "window_display": true
  }
 },
 "nbformat": 4,
 "nbformat_minor": 2
}
